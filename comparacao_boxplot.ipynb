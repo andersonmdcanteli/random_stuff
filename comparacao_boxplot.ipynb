{
 "cells": [
  {
   "cell_type": "markdown",
   "metadata": {},
   "source": [
    "# Como definir explicitamente os valores do Boxplot utilizando o matplotlib\n",
    "\n",
    "## Introdução\n",
    "\n",
    "Suponha que você queria desenhar um boxplot utilizando o matplotlib, mas queira utilizar um método de estimação dos quartis diferente do método padrão. Como fazer? É isto que vamos ver neste artigo!\n",
    "\n",
    "A documentação do matplotlib não deixa muito evidente qual método é utilizado para estimar os quartis para a construção do Boxplot através de `plt.boxplot()`. Em alguns testes (feitos por mim, ~~omitidos por pura conveniência~~ e disponibilizados no final do texto), os resultados obtidos são idênticos ao obtido utilizando a função `QUARTIL.INC()` do Excel (foram utilizados alguns datasets, com valores distintos e de tamanhos disitintos para combrir dados pares e ímpares). \n",
    "\n",
    "Portanto, consideramos o resultado padrão do `plt.boxplot()` como sendo o mesmo resultado do Boxplot gerado pelo Excel, quando marcado a opção \"Inclusive\" (neste momento, não tenho motivo para duvidar desta suposição). Então, vamos gerar o gráfico de boxplot utilizando o matplotlib, mas com os dados obtidos no Excel, utilizando a função `QUARTIL.EXC()`.\n",
    "\n",
    "Assim, temos uma forma bem simples de validar os resultados.\n",
    "\n",
    "## Conjunto de dados\n",
    "\n",
    "Por motivos de facilidade ~~preguiça~~, vou utilizar o conjunto de dados do exemplo 1 do artigo da [Wikipedia-en](https://en.wikipedia.org/wiki/Quartile#Example_1) que trata sobre quartis. Os dados são os seguintes:"
   ]
  },
  {
   "cell_type": "code",
   "execution_count": 1,
   "metadata": {},
   "outputs": [],
   "source": [
    "data = [6, 7, 15, 36, 39, 40, 41, 42, 43, 47, 49]"
   ]
  },
  {
   "cell_type": "markdown",
   "metadata": {},
   "source": [
    "Um motivo bem específico para utilizar estes dados, é que ele é *ímpar*.\n",
    "\n",
    "Utilizando as funções `QUARTIL.EXC()` e `QUARTIL.INC()` com este conjunto de dados, obtemos os seguintes valores para os quartis:\n",
    "\n",
    "| Método | $Q1$ | $M_d$ | $Q3$ |\n",
    "| :-: | :-: | :-: | :-: |\n",
    "| `QUARTIL.INC()` | 25.5 | 40 | 42.5 |\n",
    "| `QUARTIL.EXC()` | 15 | 40 | 43 |\n",
    "\n",
    "Os resultados obtidos são bem distintos, especialmente o de $Q1$; logo, o Boxplot certamente será diferente. \n",
    "\n",
    "Para desenhar o Boxplot, além dos quartis e da mediana, precisamos da distância interquartílica e da posição dos whiskers. A distância interquartílica nada mais é do que a diferença entre os dois quartis:\n",
    "\n",
    "$$DI=Q3-Q1$$\n",
    "\n",
    "Já a posição dos whiskers, ela é calculada de uma forma um pouco mais complexa, pois depende da existência ou não possíveis outliers no conjunto de dados. A princípio, a posição do whisker inferior é o valor mínimo do conjunto de dados, e a posição do whiskers superior é o valor máximo do conjunto de dados. Entretanto, caso existam outliers (que são valores mínimos e/ou máximos), os whiskers passam a ser o próximo valor máximo e/ou mínimo.\n",
    "\n",
    "Ou seja, a posição do whisker superior é o valor máximo que não é um outlier, e a posição do whisker inferior é o valor mínimo que não é um outlier.\n",
    "\n",
    "Para verificar se existem outliers, se estima um intervalo de confiança da seguinte forma:\n",
    "\n",
    "$$Inferior = Q1 - 1.5 \\times DI$$\n",
    "\n",
    "$$Superior = Q3 + 1.5 \\times DI$$\n",
    "\n",
    "Onde o $1.5$ é um numéro arbitrário, que pode ser alterado. Contudo, o uso de $1.5 \\times DI$ ocorre devido a esta região abranger 99,3% dos dados de ums ditribuição Normal ($6 \\sigma$), e é o valor recomendado. Valores fora do intervalo $[Q1 - 1.5 \\times DI; Q3 + 1.5 \\times DI]$ geralmente são considerados *outliers*. E é esta condição que vamos adotar aqui.\n",
    "\n",
    "#### Para o método QUARTIL.INC(), temos que \n",
    "\n",
    "$$DI = 42.5 - 25.5 = 17$$\n",
    "\n",
    "Então, o intervalo onde temos possíveis outliers é:\n",
    "\n",
    "$$[Q1 - 1.5 \\times DI;Q3 + 1.5 \\times DI]$$\n",
    "\n",
    "$$[25.5 - 1.5 \\times 17;42.5 + 1.5 \\times 17]$$\n",
    "\n",
    "$$[0;68]$$\n",
    "\n",
    "Como o conjunto de dados não tem nenhum ponto além deste intervalo, podemos dizer que não temos nenhum outlier, e então, utilizamos os valores mínimos e máximos como posição para o whisker inferior e superior, respectivamente.\n",
    "\n",
    "#### Para o método QUARTIL.EXC(), temos que \n",
    "\n",
    "$$DI = 15 - 43 = 28$$\n",
    "\n",
    "Então, o intervalo onde temos possíveis outliers é:\n",
    "\n",
    "$$[Q1 - 1.5 \\times DI;Q3 + 1.5 \\times DI]$$\n",
    "\n",
    "$$[15 - 1.5 \\times 28;43 + 1.5 \\times 28]$$\n",
    "\n",
    "$$[-27;85]$$\n",
    "\n",
    "Como o conjunto de dados não tem nenhum ponto além deste intervalo, não temos nenhum outlier, e então, utilizamos os valores mínimos e máximos como posição para o whisker inferior e superior, respectivamente.\n",
    "\n",
    "Dessa forma, temos:\n",
    "\n",
    "| Método | $whisker_{lower}$ | $Q1$ | $M_d$ | $Q3$ | $whisker_{upper}$ |\n",
    "| :-: | :-: | :-: | :-: | :-: | :-: |\n",
    "| `QUARTIL.INC()` | 6 | 25.5 | 40 | 42.5 | 49 |\n",
    "| `QUARTIL.EXC()` | 6 | 15 | 40 | 43 | 49 |\n",
    "\n",
    "A Figura abaixo mostra os gráficos obtidos utilizando o Excel.\n",
    "\n",
    "<img src=\"https://raw.githubusercontent.com/andersonmdcanteli/random_stuff/main/comparacao_boxplot.PNG\" width=\"600\">\n",
    "\n",
    "## Importações\n",
    "\n",
    "Para desenhar e alterar o o Boxplot, precisamos importar o que realmente importa. Vamos precisar do `pyplot` do `matplotlib` para desenhar o Boxplot, e também do `cbook`, para poder alterar os valores do Boxplot."
   ]
  },
  {
   "cell_type": "code",
   "execution_count": 2,
   "metadata": {},
   "outputs": [],
   "source": [
    "import matplotlib.pyplot as plt\n",
    "import matplotlib.cbook as cbook"
   ]
  },
  {
   "cell_type": "markdown",
   "metadata": {},
   "source": [
    "## Cook book do boxplot\n",
    "\n",
    "Através do `cbook` temos acesso ao método `cbook.boxplot_stats()`, que retorna uma `list`, onde o primeiro elemento é um `dict` contendo os dados que são utilizados para desenhar o Boxplot. Dessa forma, consiguimos obter os valores estimados por padrão para o conjunto de dados que estamos utilizando:"
   ]
  },
  {
   "cell_type": "code",
   "execution_count": 3,
   "metadata": {},
   "outputs": [
    {
     "data": {
      "text/plain": [
       "[{'mean': 33.18181818181818,\n",
       "  'iqr': 17.0,\n",
       "  'cilo': 31.95266221321949,\n",
       "  'cihi': 48.04733778678051,\n",
       "  'whishi': 49,\n",
       "  'whislo': 6,\n",
       "  'fliers': array([], dtype=int32),\n",
       "  'q1': 25.5,\n",
       "  'med': 40.0,\n",
       "  'q3': 42.5}]"
      ]
     },
     "execution_count": 3,
     "metadata": {},
     "output_type": "execute_result"
    }
   ],
   "source": [
    "cbook.boxplot_stats(data)"
   ]
  },
  {
   "cell_type": "markdown",
   "metadata": {},
   "source": [
    "Você pode acessar a documentação do `cbook.boxplot_stats()` clicando [aqui](https://matplotlib.org/stable/api/cbook_api.html#matplotlib.cbook.boxplot_stats).\n",
    "\n",
    "Para alterar os valores do Boxplot é necessário alterar as `keys` do `dict` que é retornado na primeira posição de `cbook.boxplot_stats()`. Se nada for alterado, o valor de $Q1$ que será utilizado é de $25.5$ e de $Q3$ é $42.5$, que são os valores obtidos utilizando o `QUARTIL.INC()` no Excel.\n",
    "\n",
    "## Boxplot padrão\n",
    "\n",
    "Para desenhar o Boxplot padrão do matplotlib, basta passar os dados para o método `plt.boxplot()`, como normalmente é feito. Ou seja:"
   ]
  },
  {
   "cell_type": "code",
   "execution_count": 4,
   "metadata": {},
   "outputs": [
    {
     "data": {
      "image/png": "[encoded data removed]",
      "text/plain": [
       "<Figure size 576x432 with 1 Axes>"
      ]
     },
     "metadata": {
      "needs_background": "light"
     },
     "output_type": "display_data"
    }
   ],
   "source": [
    "fig = plt.figure(figsize=(8,6))\n",
    "ax = fig.add_subplot() \n",
    "ax.boxplot(data, labels=[\"Padrão\"])\n",
    "plt.show()"
   ]
  },
  {
   "cell_type": "markdown",
   "metadata": {},
   "source": [
    "## Alterando os valores do Boxplot\n",
    "\n",
    "Para alterar os valores do Boxplot, é necessário:\n",
    "\n",
    "- obter os valores para um boxplot;\n",
    "\n",
    "- substituir os valores acessados pelos valores desejados;\n",
    "\n",
    "- plotar o boxplot com os novos valores;\n",
    "\n",
    "Quais valores substituir? Bom, temos as seguintes possibilidades:\n",
    "\n",
    "- 'mean' -> a média aritmética do conjunto de dados. Não é necessário substituir, pois a média não se altera com o método de estimação dos quartis. Além disso, a média só é inserida se `showmeans=True`. \n",
    "- 'iqr' -> é o intervalo interquartil. Necessário substituir pelo novo valor ($Q3-Q1$).\n",
    "- 'cilo' -> é o valor do `notch` inferior. É necessário substituir apenas se `notch=True`. Veja a documentação para detalhes.\n",
    "- 'cihi' -> é o valor do `notch` superior. É necessário substituir apenas se `notch=True`. Veja a documentação para detalhes.\n",
    "- 'whishi' -> é o valor do `whisker` superior. Necessário substituir pelo novo valor caso existam outliers, o que não é o caso.\n",
    "- 'whislo' -> é o valor do `whisker` inferior. Necessário substituir pelo novo valor caso existam outliers, o que não é o caso.\n",
    "- 'fliers' -> é uma uma `list` que contém os valores dos possíveis outiliers. É necessário substituir apenas se existirem possíveis outliers (e.g., se existir valores menores do que $Q1-1.5\\times(Q3-Q1)$ e/ou se existirem valores maiores que $Q3+1.5\\times(Q3-Q1)$. Atente que, métodos diferentes resultam em outliers diferentes.\n",
    "- 'q1' -> é o primeiro quartil. Necessário substituir por $Q1$.\n",
    "- 'med'-> é a mediana. Não é necessário substituir, pois a mediana não muda, independentemente do método de estimação dos quartis.\n",
    "- 'q3'-> é o terceirto quartil. Necessário substituir por $Q3$.\n",
    "\n",
    "Também temos o parâmetro `label`, que é o label que é utilizado no eixo `x`.\n",
    "\n",
    "Dessa forma:"
   ]
  },
  {
   "cell_type": "code",
   "execution_count": 5,
   "metadata": {},
   "outputs": [],
   "source": [
    "q1 = 15\n",
    "med = 40\n",
    "q3 = 43\n",
    "iqr = q3 - q1\n",
    "whislo = 6\n",
    "whishi = 49\n",
    "label = 'QUARTIL.EXC()'"
   ]
  },
  {
   "cell_type": "markdown",
   "metadata": {},
   "source": [
    "## Plotando o novo boxplot\n",
    "\n",
    "Temos praticamente todas as informações necessárias para alterar os valores do Boxplot. Entretanto, não é possível passar estes novos valores diretamente para `plt.boxplot()`, como fizemos a pouco. Para desenhar um boxplot com os dados obtidos através do cook book (`cbook.boxplot_stats()`), devemos utilizar o `ax.bxp()` (ao invés de `plt.boxplot()`), passando as informações do boxplot dentro de uma `list`.\n",
    "\n",
    "Agora, basta juntar todas as informações descritas acima:"
   ]
  },
  {
   "cell_type": "code",
   "execution_count": 6,
   "metadata": {},
   "outputs": [
    {
     "data": {
      "image/png": "[encoded data removed]",
      "text/plain": [
       "<Figure size 576x432 with 1 Axes>"
      ]
     },
     "metadata": {
      "needs_background": "light"
     },
     "output_type": "display_data"
    }
   ],
   "source": [
    "# criando o canvas\n",
    "fig = plt.figure(figsize=(8,6))\n",
    "# criando um eixo\n",
    "ax = fig.add_subplot() \n",
    "# obtendo o cook book para os dados (observe que estamos acessando o primeiro item da lista, que é o dicionário do cook book)\n",
    "boxplot_data = cbook.boxplot_stats(data)[0]\n",
    "\n",
    "## substituindo os valores necessários\n",
    "# primeiro quartil\n",
    "boxplot_data['q1'] = q1\n",
    "# mediana (embora não seja necessário, pois a mediana é sempre a mesma)\n",
    "boxplot_data['med'] = med\n",
    "# terceiro quartil\n",
    "boxplot_data['q3'] = q3\n",
    "# distância interquartílica\n",
    "boxplot_data['iqr'] = iqr\n",
    "# whiskas inferior (embora não seja necessário, pois neste caso não temos outliers)\n",
    "boxplot_data['whislo'] = whislo\n",
    "# whiskas superior (embora não seja necessário, pois neste caso não temos outliers)\n",
    "boxplot_data['whishi'] = whishi\n",
    "# label\n",
    "boxplot_data['label'] = label\n",
    "\n",
    "# plotando o boxplot\n",
    "ax.bxp([boxplot_data])\n",
    "plt.show()"
   ]
  },
  {
   "cell_type": "markdown",
   "metadata": {},
   "source": [
    "E temos o boxplot plotado com os valores personalizados, que foram obtidos utilizando o método `QUARTIL.EXC()` do Excel.\n",
    "\n",
    "## Comparando os resultados obtidos com diferentes métodos\n",
    "\n",
    "Para fins de comparação, vamos desenhar os dois boxplots em um único gráfico. Atente que é necessário utilizar o `ax.bxp()` para os dois gráficos. Assim, é necessário dois cook books, um para cada método de estimação dos quartis."
   ]
  },
  {
   "cell_type": "code",
   "execution_count": 7,
   "metadata": {},
   "outputs": [
    {
     "data": {
      "image/png": "[encoded data removed]",
      "text/plain": [
       "<Figure size 720x432 with 1 Axes>"
      ]
     },
     "metadata": {
      "needs_background": "light"
     },
     "output_type": "display_data"
    }
   ],
   "source": [
    "# Criando o canvas\n",
    "fig = plt.figure(figsize=(10,6))\n",
    "ax = fig.add_subplot() \n",
    "\n",
    "# Criando o primeiro cook book, para o método de Tukey\n",
    "boxplot_data_INC = cbook.boxplot_stats(data)[0]\n",
    "boxplot_data_INC['label'] = \"QUARTIL.INC()\"\n",
    "\n",
    "# Criando o segundo cook book, para o método de M&M\n",
    "boxplot_data_EXC = cbook.boxplot_stats(data)[0]\n",
    "\n",
    "# primeiro quartil\n",
    "boxplot_data_EXC['q1'] = q1\n",
    "# mediana (embora não seja necessário, pois a mediana é sempre a mesma)\n",
    "boxplot_data_EXC['med'] = med\n",
    "# terceiro quartil\n",
    "boxplot_data_EXC['q3'] = q3\n",
    "# distância interquartílica\n",
    "boxplot_data_EXC['iqr'] = iqr\n",
    "# whiskas inferior (embora não seja necessário, pois neste caso não temos outliers)\n",
    "boxplot_data_EXC['whislo'] = whislo\n",
    "# whiskas superior (embora não seja necessário, pois neste caso não temos outliers)\n",
    "boxplot_data_EXC['whishi'] = whishi\n",
    "# label\n",
    "boxplot_data_EXC['label'] = label\n",
    "\n",
    "# plotando o boxplot Atente que passamos os cook books através de uma list\n",
    "ax.bxp([boxplot_data_INC, boxplot_data_EXC])\n",
    "# alterando o intevalo do eixo y para que o gráfico fique um pouco mais próximo ao obtido no Excel.\n",
    "ax.set_ylim([0,60])\n",
    "plt.show()"
   ]
  },
  {
   "cell_type": "markdown",
   "metadata": {},
   "source": [
    "## Comentários\n",
    "\n",
    "Neste breve artigo, vimos que é bem simples alterar os valores do Boxplot gerado pelo matplotlib. A dificuldade é encontrar o caminho; o caminho é bem simples.\n",
    "\n",
    "É importante ressaltar a diferença gritante entre os resultados dos dois métodos. Numericamente é possível verificar esta diferença; mas visualmente, ela chega a assustar. Contudo, a conclusão em relação à simetria e a suposição de Normalidade do dados, é a mesma: os dados não são simétricos e não seguem a distribuição Normal.\n"
   ]
  },
  {
   "cell_type": "markdown",
   "metadata": {},
   "source": [
    "## Referências \n",
    "\n",
    "- Wikipedia contributors. (2021, August 29). Quartile. In Wikipedia, The Free Encyclopedia. Retrieved 13:32, November 25, 2021, from [https://en.wikipedia.org/w/index.php?title=Quartile&oldid=1041261639](https://en.wikipedia.org/).\n",
    "\n",
    "## Leitura recomendada\n",
    "\n",
    "- Langford, E. (2006). Quartiles in Elementary Statistics, Journal of Statistics Education, 14(3). Link: [jse.amstat.org/](http://jse.amstat.org/v14n3/langford.html).\n",
    "\n",
    "- MOORE, D. S. and MCCABE, G. P. (1989), Introduction to the Practice of Statistics, Freeman, First Edition.\n",
    "\n",
    "- Peltier, J. (2013), Quartiles for Box Plots. Link: [peltiertech.com/](https://peltiertech.com/quartiles-for-box-plots/)\n",
    "\n",
    "- Tukey, J. W. (1977), Exploratory Data Analysis, Reading, MA: Addison-Wesley.\n",
    "\n",
    "## Downloads\n",
    "\n",
    "- Planilha do Excel utilizada para estimar os quartis: \n",
    "\n",
    "    + [google drive](https://docs.google.com/spreadsheets/d/1Rb8NoIrNKGHL5FGt8HuXPV90Jn7i67LN/edit?usp=sharing&ouid=115280376883108841355&rtpof=true&sd=true)\n",
    "\n",
    "    + [github](https://github.com/andersonmdcanteli/random_stuff/blob/main/comparacao_boxplot.xlsx)\n"
   ]
  },
  {
   "cell_type": "markdown",
   "metadata": {},
   "source": [
    "## About\n",
    "\n",
    "**Author:** Anderson Marcos Dias Canteli, *PhD in Food Engineer*\n",
    "\n",
    "**Last updated on:** 26/11/2021\n",
    "\n",
    "### Interesting links:\n",
    "\n",
    "- [GitPage](http://andersonmdcanteli.github.io/)\n",
    "\n",
    "- [Blog](https://andersoncanteli.wordpress.com/)\n",
    "\n",
    "- [Dashboads](http://andersoncanteli.herokuapp.com/)\n",
    "\n",
    "- [Cursos](https://andersonmdcanteli.pythonanywhere.com/courses-landing/)\n",
    "\n",
    "- [YouTube channel](https://www.youtube.com/c/AndersonCanteli/)\n",
    "\n",
    "- [Curriculum lattes](http://lattes.cnpq.br/6961242234529344)\n",
    "\n",
    "<br>\n",
    "\n",
    "<img style=\"float: right\" src=\"https://raw.githubusercontent.com/andersonmdcanteli/matplotlib-course/main/logo/marca_puzzle.png\" alt=\"logo Puzzle in a Mug project\" width=\"400\">"
   ]
  }
 ],
 "metadata": {
  "kernelspec": {
   "display_name": "stat101",
   "language": "python",
   "name": "stat101"
  },
  "language_info": {
   "codemirror_mode": {
    "name": "ipython",
    "version": 3
   },
   "file_extension": ".py",
   "mimetype": "text/x-python",
   "name": "python",
   "nbconvert_exporter": "python",
   "pygments_lexer": "ipython3",
   "version": "3.7.1"
  }
 },
 "nbformat": 4,
 "nbformat_minor": 2
}
